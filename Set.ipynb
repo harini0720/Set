{
  "nbformat": 4,
  "nbformat_minor": 0,
  "metadata": {
    "colab": {
      "provenance": []
    },
    "kernelspec": {
      "name": "python3",
      "display_name": "Python 3"
    },
    "language_info": {
      "name": "python"
    }
  },
  "cells": [
    {
      "cell_type": "markdown",
      "source": [
        "# python set:\n",
        "sets is simply known as collection of unique elements which does not allows duplicates. It is mutable,and unordered datatype it can be represented by curly brackets{} or set() function. each and every elements separated by comma(,)\n",
        "\n",
        " Sets are commonly used when you need to store a collection of unique items and perform operations like union, intersection, and difference."
      ],
      "metadata": {
        "id": "N3WogxYGPHrr"
      }
    },
    {
      "cell_type": "markdown",
      "source": [
        "#examples:\n",
        "  creating set:\n",
        "     empty_set=set()"
      ],
      "metadata": {
        "id": "sxSSNvWHTYnT"
      }
    },
    {
      "cell_type": "code",
      "source": [
        "fruits={'custard apple','apple','mango'}\n",
        "type(fruits)"
      ],
      "metadata": {
        "colab": {
          "base_uri": "https://localhost:8080/"
        },
        "id": "gzuvrKsxVHDU",
        "outputId": "05bc2352-7e5c-4180-e1a7-53af9df00a80"
      },
      "execution_count": 12,
      "outputs": [
        {
          "output_type": "execute_result",
          "data": {
            "text/plain": [
              "set"
            ]
          },
          "metadata": {},
          "execution_count": 12
        }
      ]
    },
    {
      "cell_type": "code",
      "source": [
        "numbers={1,2,3,3,4,5,6,6,7}\n",
        "type(numbers)"
      ],
      "metadata": {
        "colab": {
          "base_uri": "https://localhost:8080/"
        },
        "id": "pvLAeyj4VRgi",
        "outputId": "1c345aff-1b9a-4597-ea3a-6da40c0866e6"
      },
      "execution_count": 13,
      "outputs": [
        {
          "output_type": "execute_result",
          "data": {
            "text/plain": [
              "set"
            ]
          },
          "metadata": {},
          "execution_count": 13
        }
      ]
    },
    {
      "cell_type": "code",
      "source": [
        "numbers={1,2,3,5,6,9.78}\n",
        "type(numbers)"
      ],
      "metadata": {
        "colab": {
          "base_uri": "https://localhost:8080/"
        },
        "id": "Ywuj5rR0UsxZ",
        "outputId": "bbca193d-64de-4ac0-80a8-47cef1fb3e6f"
      },
      "execution_count": 15,
      "outputs": [
        {
          "output_type": "execute_result",
          "data": {
            "text/plain": [
              "set"
            ]
          },
          "metadata": {},
          "execution_count": 15
        }
      ]
    },
    {
      "cell_type": "code",
      "source": [
        "print(numbers)\n",
        "print(fruits)"
      ],
      "metadata": {
        "colab": {
          "base_uri": "https://localhost:8080/"
        },
        "id": "EMVKFg8MVoaK",
        "outputId": "3432eb89-8330-4adb-a552-3430ef5db5ff"
      },
      "execution_count": 18,
      "outputs": [
        {
          "output_type": "stream",
          "name": "stdout",
          "text": [
            "{1, 2, 3, 5, 6, 9.78}\n",
            "{'mango', 'apple', 'custard apple'}\n"
          ]
        }
      ]
    },
    {
      "cell_type": "markdown",
      "source": [
        "*duplicate items:"
      ],
      "metadata": {
        "id": "ZENUSdjHWDKd"
      }
    },
    {
      "cell_type": "code",
      "source": [
        "hello={1,5,6,7,8,9,10,5,9,1,2,3}\n",
        "print(hello)"
      ],
      "metadata": {
        "colab": {
          "base_uri": "https://localhost:8080/"
        },
        "id": "DHOoWHpMWLHC",
        "outputId": "04eb1a44-9b5f-4a68-a9b1-3ddc41328fbc"
      },
      "execution_count": 22,
      "outputs": [
        {
          "output_type": "stream",
          "name": "stdout",
          "text": [
            "{1, 2, 3, 5, 6, 7, 8, 9, 10}\n"
          ]
        }
      ]
    },
    {
      "cell_type": "markdown",
      "source": [
        "#add iteam,update set and remove element:"
      ],
      "metadata": {
        "id": "lBbmJd6PYQqM"
      }
    },
    {
      "cell_type": "code",
      "source": [
        "set1 = {1,2,3,4}\n",
        "set1.add(5)\n",
        "set1.add(7)\n",
        "print(set1)\n",
        ""
      ],
      "metadata": {
        "colab": {
          "base_uri": "https://localhost:8080/"
        },
        "id": "UpQmNwS1YrM4",
        "outputId": "8715d1c3-1022-427a-9ed5-6b8723deb8c8"
      },
      "execution_count": 2,
      "outputs": [
        {
          "output_type": "stream",
          "name": "stdout",
          "text": [
            "{1, 2, 3, 4, 5, 7}\n"
          ]
        }
      ]
    },
    {
      "cell_type": "code",
      "source": [
        "names={'harini','ruthuu'}\n",
        "names.add('archuu')\n",
        "print(names)\n",
        ""
      ],
      "metadata": {
        "colab": {
          "base_uri": "https://localhost:8080/"
        },
        "id": "CCiLw0siZQA_",
        "outputId": "ce1c7a5e-46dd-4b67-81e3-fbda27740168"
      },
      "execution_count": 4,
      "outputs": [
        {
          "output_type": "stream",
          "name": "stdout",
          "text": [
            "{'ruthuu', 'harini', 'archuu'}\n"
          ]
        }
      ]
    },
    {
      "cell_type": "code",
      "source": [
        "subjects={'maths','data science','static'}\n",
        "language={'english','sanskirt'}\n",
        "subjects.update(language)\n",
        "print(subjects)"
      ],
      "metadata": {
        "colab": {
          "base_uri": "https://localhost:8080/"
        },
        "id": "v1kmUr5IZnN-",
        "outputId": "8062ba19-eb8d-471a-db50-35ecab414a20"
      },
      "execution_count": 6,
      "outputs": [
        {
          "output_type": "stream",
          "name": "stdout",
          "text": [
            "{'data science', 'static', 'sanskirt', 'maths', 'english'}\n"
          ]
        }
      ]
    },
    {
      "cell_type": "code",
      "source": [
        "companies={'microsoft','machine learning','power bi','data science'}\n",
        "tech_companies={'google','sky','technologies'}\n",
        "companies.update(tech_companies)\n",
        "print(companies)"
      ],
      "metadata": {
        "colab": {
          "base_uri": "https://localhost:8080/"
        },
        "id": "6fMWkJCrbj8E",
        "outputId": "a83a82c0-a400-4028-f940-0fb0d4d9b9d8"
      },
      "execution_count": 9,
      "outputs": [
        {
          "output_type": "stream",
          "name": "stdout",
          "text": [
            "{'data science', 'google', 'machine learning', 'power bi', 'microsoft', 'sky', 'technologies'}\n"
          ]
        }
      ]
    },
    {
      "cell_type": "code",
      "source": [
        "language={'telugu','hindi','english'}\n",
        "language.remove('hindi')\n",
        "print(language)"
      ],
      "metadata": {
        "colab": {
          "base_uri": "https://localhost:8080/"
        },
        "id": "nd7m_oOUdMK9",
        "outputId": "00724cdd-2362-425f-9345-d0b1134284bb"
      },
      "execution_count": 10,
      "outputs": [
        {
          "output_type": "stream",
          "name": "stdout",
          "text": [
            "{'telugu', 'english'}\n"
          ]
        }
      ]
    },
    {
      "cell_type": "code",
      "source": [
        "language={'python','jaavaa','data science'}\n",
        "language.remove('jaavaa')\n",
        "print(language)\n",
        ""
      ],
      "metadata": {
        "colab": {
          "base_uri": "https://localhost:8080/"
        },
        "id": "VcfmfhfEdkiz",
        "outputId": "217542df-f42f-40a5-9daa-b7e7a08cc099"
      },
      "execution_count": 11,
      "outputs": [
        {
          "output_type": "stream",
          "name": "stdout",
          "text": [
            "{'data science', 'python'}\n"
          ]
        }
      ]
    },
    {
      "cell_type": "markdown",
      "source": [
        "#python set operations:\n",
        "   1)union set\n",
        "   2)intersection set\n",
        "   3)difference set"
      ],
      "metadata": {
        "id": "tnEWmoQGd4AU"
      }
    },
    {
      "cell_type": "markdown",
      "source": [
        "#union set:\n",
        "the union of two sets A and B include all elements of set A and B"
      ],
      "metadata": {
        "id": "Dyzs2H_5gVfG"
      }
    },
    {
      "cell_type": "code",
      "source": [
        "set1={1,2,3,3,4,5,66,66}\n",
        "set2={7,8,9,10}\n",
        "set=set1.union(set2)\n",
        "print(set)\n",
        ""
      ],
      "metadata": {
        "colab": {
          "base_uri": "https://localhost:8080/"
        },
        "id": "oJ64vShzggoy",
        "outputId": "c872303e-2689-4716-9f19-60ba2ed15f45"
      },
      "execution_count": 15,
      "outputs": [
        {
          "output_type": "stream",
          "name": "stdout",
          "text": [
            "{1, 2, 3, 4, 5, 66, 7, 8, 9, 10}\n"
          ]
        }
      ]
    },
    {
      "cell_type": "code",
      "source": [
        "c={0,51,34,5,29,4}\n",
        "d={0,42,4,70,38}\n",
        "set=c.union(d)\n",
        "print(set)"
      ],
      "metadata": {
        "colab": {
          "base_uri": "https://localhost:8080/"
        },
        "id": "Mhj2qP64gqNt",
        "outputId": "083c451a-e1c2-477d-b4d7-e7b93dddba53"
      },
      "execution_count": 16,
      "outputs": [
        {
          "output_type": "stream",
          "name": "stdout",
          "text": [
            "{0, 34, 4, 5, 70, 38, 42, 51, 29}\n"
          ]
        }
      ]
    },
    {
      "cell_type": "markdown",
      "source": [
        "#intersection set:\n",
        "   The intersection of two sets that will returns common elements of both sets."
      ],
      "metadata": {
        "id": "dl76dWR_hNkG"
      }
    },
    {
      "cell_type": "code",
      "source": [
        "set1={'ram','sita','hanuman'}\n",
        "set2={'hanuman','sita'}\n",
        "set=set1.intersection(set2)\n",
        "print(set)"
      ],
      "metadata": {
        "colab": {
          "base_uri": "https://localhost:8080/"
        },
        "id": "cVOCvQGbhcZU",
        "outputId": "f95f81c4-163c-4a0d-ba7d-65f697f081e1"
      },
      "execution_count": 18,
      "outputs": [
        {
          "output_type": "stream",
          "name": "stdout",
          "text": [
            "{'hanuman', 'sita'}\n"
          ]
        }
      ]
    },
    {
      "cell_type": "code",
      "source": [
        "a={1,3,5,8,4,0,8,0,3,0,2,4}\n",
        "b={1,2,3,0,5,4,7,8,5,0,2,4}\n",
        "set=a.intersection(b)\n",
        "print(set)"
      ],
      "metadata": {
        "colab": {
          "base_uri": "https://localhost:8080/"
        },
        "id": "-fnogm2EiT4m",
        "outputId": "1aca89ae-d22e-4af4-b4c1-edb7a55cc8ad"
      },
      "execution_count": 19,
      "outputs": [
        {
          "output_type": "stream",
          "name": "stdout",
          "text": [
            "{0, 1, 2, 3, 4, 5, 8}\n"
          ]
        }
      ]
    },
    {
      "cell_type": "markdown",
      "source": [
        "#difference set():\n",
        "    The difference of two sets is set of elements that are cancels common elements and returns the value of setA\n",
        "setA={1,2,3,4,5}\n",
        "setB={4,6,7,8}"
      ],
      "metadata": {
        "id": "Aq1yObbBiyWd"
      }
    },
    {
      "cell_type": "code",
      "source": [
        "setA={1,2,3,4,5}\n",
        "setB={4,6,7,8}\n",
        "set=setA.difference(setB)\n",
        "print(set)"
      ],
      "metadata": {
        "colab": {
          "base_uri": "https://localhost:8080/"
        },
        "id": "I-B6GhemjAQ-",
        "outputId": "21d6efe3-41e0-4203-ee00-93fa2177dbe1"
      },
      "execution_count": 20,
      "outputs": [
        {
          "output_type": "stream",
          "name": "stdout",
          "text": [
            "{1, 2, 3, 5}\n"
          ]
        }
      ]
    },
    {
      "cell_type": "code",
      "source": [
        "b={2,3,5,9,0,4,7,9,0,4,7,9,4,3}\n",
        "c={1,2,3,6,4,7}\n",
        "set=b.difference(c)\n",
        "print(set)"
      ],
      "metadata": {
        "colab": {
          "base_uri": "https://localhost:8080/"
        },
        "id": "cNZNSEVKjcnG",
        "outputId": "45068018-3ff4-4e34-86c2-807ba5847a03"
      },
      "execution_count": 21,
      "outputs": [
        {
          "output_type": "stream",
          "name": "stdout",
          "text": [
            "{0, 9, 5}\n"
          ]
        }
      ]
    },
    {
      "cell_type": "markdown",
      "source": [
        "# Symmetric difference:\n",
        " The symmetric difference of sets is set of elements that cancels common elements of sets and returns the values of setA and setB."
      ],
      "metadata": {
        "id": "gjbl8W0WkIbd"
      }
    },
    {
      "cell_type": "code",
      "source": [
        "setA={1,2,3,4,5}\n",
        "setB={4,6,7,8}\n",
        "set=setA.symmetric_difference(setB)\n",
        "print(set)"
      ],
      "metadata": {
        "colab": {
          "base_uri": "https://localhost:8080/"
        },
        "id": "sVXksXn2lPAO",
        "outputId": "e21f626f-d41c-498d-e483-6c7d7eeb6058"
      },
      "execution_count": 1,
      "outputs": [
        {
          "output_type": "stream",
          "name": "stdout",
          "text": [
            "{1, 2, 3, 5, 6, 7, 8}\n"
          ]
        }
      ]
    },
    {
      "cell_type": "code",
      "source": [
        "c={'mango','apple','banana'}\n",
        "d={'apple','grapes','lemon','banana','orange'}\n",
        "set=c.symmetric_difference(d)\n",
        "print(set)"
      ],
      "metadata": {
        "colab": {
          "base_uri": "https://localhost:8080/"
        },
        "id": "VwycXUdtlsC8",
        "outputId": "d0db3c9e-65e1-4d39-d590-f616c34b0bbf"
      },
      "execution_count": 2,
      "outputs": [
        {
          "output_type": "stream",
          "name": "stdout",
          "text": [
            "{'mango', 'grapes', 'lemon', 'orange'}\n"
          ]
        }
      ]
    }
  ]
}